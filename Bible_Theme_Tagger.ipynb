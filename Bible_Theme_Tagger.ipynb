{
  "nbformat": 4,
  "nbformat_minor": 0,
  "metadata": {
    "colab": {
      "provenance": [],
      "name": "Bible Theme Tagger - Everyday Christian"
    },
    "kernelspec": {
      "name": "python3",
      "display_name": "Python 3"
    },
    "language_info": {
      "name": "python"
    }
  },
  "cells": [
    {
      "cell_type": "markdown",
      "source": [
        "# 📖 Bible Verse Theme Tagger\n",
        "\n",
        "This notebook automatically tags 31,103 Bible verses with contextual themes using Google Gemini AI.\n",
        "\n",
        "## What it does:\n",
        "- Reads verses from your Bible database\n",
        "- Uses Gemini AI to analyze context and sentiment\n",
        "- Tags each verse with relevant themes (anxiety, comfort, hope, strength, etc.)\n",
        "- **Updates ONLY the themes column** (doesn't replace your database)\n",
        "\n",
        "## Setup Required:\n",
        "1. Upload `bible.db` from assets/bible.db\n",
        "2. Add your Gemini API key below\n",
        "3. Click Runtime → Run All\n",
        "4. Download the updated `bible.db` when complete\n",
        "5. Replace the file in assets/bible.db\n",
        "\n",
        "**Estimated time:** 20-30 minutes for 31k verses"
      ],
      "metadata": {
        "id": "header"
      }
    },
    {
      "cell_type": "markdown",
      "source": [
        "## Step 1: Install Dependencies"
      ],
      "metadata": {
        "id": "step1"
      }
    },
    {
      "cell_type": "code",
      "execution_count": null,
      "metadata": {
        "id": "install"
      },
      "outputs": [],
      "source": [
        "!pip install -q google-generativeai pandas tqdm"
      ]
    },
    {
      "cell_type": "markdown",
      "source": [
        "## Step 2: Configure Gemini API"
      ],
      "metadata": {
        "id": "step2"
      }
    },
    {
      "cell_type": "code",
      "source": [
        "import google.generativeai as genai\n",
        "import pandas as pd\n",
        "import json\n",
        "import time\n",
        "from tqdm import tqdm\n",
        "import re\n",
        "import sqlite3\n",
        "import shutil\n",
        "\n",
        "# 🔑 ADD YOUR GEMINI API KEY HERE\n",
        "GEMINI_API_KEY = \"\"  # Get from https://makersuite.google.com/app/apikey\n",
        "\n",
        "if not GEMINI_API_KEY:\n",
        "    raise ValueError(\"⚠️ Please add your Gemini API key above!\")\n",
        "\n",
        "genai.configure(api_key=GEMINI_API_KEY)\n",
        "model = genai.GenerativeModel('gemini-2.0-flash-exp')\n",
        "\n",
        "print(\"✅ Gemini AI configured successfully!\")"
      ],
      "metadata": {
        "id": "config"
      },
      "execution_count": null,
      "outputs": []
    },
    {
      "cell_type": "markdown",
      "source": [
        "## Step 3: Define Biblical Themes\n",
        "\n",
        "These are the themes Gemini will choose from when tagging verses."
      ],
      "metadata": {
        "id": "step3"
      }
    },
    {
      "cell_type": "code",
      "source": [
        "BIBLICAL_THEMES = [\n",
        "    # Emotional/Spiritual States\n",
        "    \"anxiety\", \"peace\", \"fear\", \"courage\", \"hope\", \"despair\",\n",
        "    \"joy\", \"sadness\", \"anger\", \"forgiveness\", \"gratitude\",\n",
        "    \"loneliness\", \"comfort\", \"depression\", \"doubt\", \"faith\",\n",
        "    \n",
        "    # Spiritual Themes\n",
        "    \"prayer\", \"worship\", \"praise\", \"repentance\", \"salvation\",\n",
        "    \"redemption\", \"grace\", \"mercy\", \"love\", \"trust\",\n",
        "    \n",
        "    # Life Situations\n",
        "    \"guidance\", \"wisdom\", \"strength\", \"weakness\", \"suffering\",\n",
        "    \"persecution\", \"trials\", \"perseverance\", \"patience\",\n",
        "    \"provision\", \"protection\", \"healing\", \"sickness\",\n",
        "    \n",
        "    # Relationships\n",
        "    \"marriage\", \"family\", \"friendship\", \"unity\", \"conflict\",\n",
        "    \"reconciliation\", \"humility\", \"pride\",\n",
        "    \n",
        "    # Purpose & Identity\n",
        "    \"purpose\", \"calling\", \"identity\", \"worth\", \"obedience\",\n",
        "    \"righteousness\", \"holiness\", \"transformation\",\n",
        "    \n",
        "    # God's Attributes\n",
        "    \"faithfulness\", \"sovereignty\", \"presence\", \"power\",\n",
        "    \"justice\", \"compassion\", \"eternal\", \"creator\"\n",
        "]\n",
        "\n",
        "print(f\"📋 Using {len(BIBLICAL_THEMES)} biblical themes for tagging\")\n",
        "print(f\"Themes: {', '.join(BIBLICAL_THEMES[:10])}...\")"
      ],
      "metadata": {
        "id": "themes"
      },
      "execution_count": null,
      "outputs": []
    },
    {
      "cell_type": "markdown",
      "source": [
        "## Step 4: Upload Bible Database\n",
        "\n",
        "Upload your `bible.db` file from `assets/bible.db`"
      ],
      "metadata": {
        "id": "step4"
      }
    },
    {
      "cell_type": "code",
      "source": [
        "from google.colab import files\n",
        "\n",
        "print(\"📤 Upload your bible.db file from assets/bible.db...\")\n",
        "uploaded = files.upload()\n",
        "\n",
        "# Make a backup copy\n",
        "shutil.copy('bible.db', 'bible_backup.db')\n",
        "print(\"\\n✅ Backup created: bible_backup.db\")\n",
        "\n",
        "# Load verses from database\n",
        "conn = sqlite3.connect('bible.db')\n",
        "df = pd.read_sql_query(\n",
        "    \"SELECT id, book, chapter, verse_number, text, translation, reference FROM verses WHERE translation='WEB'\",\n",
        "    conn\n",
        ")\n",
        "conn.close()\n",
        "\n",
        "print(f\"\\n✅ Loaded {len(df):,} verses from database\")\n",
        "print(f\"\\nSample verse:\")\n",
        "print(df.iloc[0])"
      ],
      "metadata": {
        "id": "upload"
      },
      "execution_count": null,
      "outputs": []
    },
    {
      "cell_type": "markdown",
      "source": [
        "## Step 5: Clean Verse Text\n",
        "\n",
        "Remove Strong's numbers and formatting artifacts for cleaner AI analysis."
      ],
      "metadata": {
        "id": "step5"
      }
    },
    {
      "cell_type": "code",
      "source": [
        "def clean_verse_text(text):\n",
        "    \"\"\"Remove Strong's numbers and artifacts from verse text\"\"\"\n",
        "    if pd.isna(text):\n",
        "        return \"\"\n",
        "    \n",
        "    # Remove Strong's numbers: |strong=\"H1234\" or strong=\"G5678\"\n",
        "    text = re.sub(r'\\|strong=\"[HG]\\d+\"', '', text)\n",
        "    \n",
        "    # Remove WH+ markup: +wh text+wh*\n",
        "    text = re.sub(r'\\+wh[^\\+]*\\+wh\\*', '', text)\n",
        "    \n",
        "    # Remove extra pipes and normalize whitespace\n",
        "    text = text.replace('|', ' ')\n",
        "    text = re.sub(r'\\s+', ' ', text)\n",
        "    \n",
        "    return text.strip()\n",
        "\n",
        "# Add cleaned text column\n",
        "df['clean_text'] = df['text'].apply(clean_verse_text)\n",
        "\n",
        "print(\"✅ Cleaned verse text\")\n",
        "print(f\"\\nOriginal: {df.iloc[0]['text'][:100]}...\")\n",
        "print(f\"Cleaned:  {df.iloc[0]['clean_text'][:100]}...\")"
      ],
      "metadata": {
        "id": "clean"
      },
      "execution_count": null,
      "outputs": []
    },
    {
      "cell_type": "markdown",
      "source": [
        "## Step 6: Tag Verses with Gemini AI\n",
        "\n",
        "This is the main processing step. It will:\n",
        "- Process verses in batches of 20 (smaller for better accuracy)\n",
        "- Use Gemini to analyze context and sentiment\n",
        "- Assign 1-5 relevant themes per verse\n",
        "- Handle rate limits with automatic retries\n",
        "\n",
        "**⏱️ This will take 20-30 minutes. You can leave the tab open.**"
      ],
      "metadata": {
        "id": "step6"
      }
    },
    {
      "cell_type": "code",
      "source": [
        "def tag_verse_batch(verses_batch):\n",
        "    \"\"\"Tag a batch of verses with themes using Gemini\"\"\"\n",
        "    \n",
        "    # Build prompt with all verses in batch\n",
        "    prompt = f\"\"\"You are a biblical scholar analyzing verses for thematic content.\n",
        "\n",
        "For each verse below, identify 1-5 relevant themes from this list:\n",
        "{', '.join(BIBLICAL_THEMES)}\n",
        "\n",
        "Consider:\n",
        "- The emotional tone and sentiment\n",
        "- The spiritual message or lesson\n",
        "- The practical application for readers\n",
        "- The context of suffering, joy, guidance, etc.\n",
        "\n",
        "Return ONLY a JSON array where each element is an array of theme strings.\n",
        "Example: [[\"hope\", \"faith\"], [\"anxiety\", \"peace\", \"trust\"], [\"wisdom\", \"guidance\"]]\n",
        "\n",
        "Verses to tag:\n",
        "\"\"\"\n",
        "    \n",
        "    for idx, verse in enumerate(verses_batch):\n",
        "        prompt += f\"\\n{idx+1}. {verse['reference']}: {verse['clean_text'][:200]}\"\n",
        "    \n",
        "    prompt += \"\\n\\nJSON array of themes:\"\n",
        "    \n",
        "    try:\n",
        "        response = model.generate_content(prompt)\n",
        "        \n",
        "        # Extract JSON from response\n",
        "        response_text = response.text.strip()\n",
        "        \n",
        "        # Remove markdown code blocks if present\n",
        "        if response_text.startswith('```'):\n",
        "            response_text = re.sub(r'```json\\s*|```\\s*', '', response_text)\n",
        "        \n",
        "        themes_batch = json.loads(response_text)\n",
        "        \n",
        "        if len(themes_batch) != len(verses_batch):\n",
        "            print(f\"⚠️ Mismatch: Expected {len(verses_batch)} but got {len(themes_batch)}\")\n",
        "            return None\n",
        "        \n",
        "        return themes_batch\n",
        "        \n",
        "    except Exception as e:\n",
        "        print(f\"❌ Error processing batch: {e}\")\n",
        "        return None\n",
        "\n",
        "# Initialize themes column\n",
        "df['themes'] = None\n",
        "\n",
        "# Process in smaller batches for better accuracy\n",
        "BATCH_SIZE = 20\n",
        "total_batches = (len(df) + BATCH_SIZE - 1) // BATCH_SIZE\n",
        "\n",
        "print(f\"🚀 Starting to tag {len(df):,} verses in {total_batches} batches...\\n\")\n",
        "\n",
        "for batch_idx in tqdm(range(0, len(df), BATCH_SIZE), desc=\"Tagging verses\"):\n",
        "    batch_df = df.iloc[batch_idx:batch_idx + BATCH_SIZE]\n",
        "    \n",
        "    verses_batch = batch_df[['reference', 'clean_text']].to_dict('records')\n",
        "    \n",
        "    # Tag the batch with retry logic\n",
        "    themes_batch = None\n",
        "    for retry in range(3):\n",
        "        themes_batch = tag_verse_batch(verses_batch)\n",
        "        if themes_batch is not None:\n",
        "            break\n",
        "        print(f\"Retry {retry+1}/3 for batch {batch_idx//BATCH_SIZE + 1}...\")\n",
        "        time.sleep(2)\n",
        "    \n",
        "    if themes_batch is None:\n",
        "        print(f\"⚠️ Skipping batch {batch_idx//BATCH_SIZE + 1} after 3 retries\")\n",
        "        continue\n",
        "    \n",
        "    # Store themes as JSON strings\n",
        "    for i, themes in enumerate(themes_batch):\n",
        "        df.at[batch_idx + i, 'themes'] = json.dumps(themes)\n",
        "    \n",
        "    # Rate limiting: ~60 requests per minute\n",
        "    time.sleep(1)\n",
        "\n",
        "print(\"\\n✅ Tagging complete!\")\n",
        "print(f\"Tagged verses: {df['themes'].notna().sum():,}\")\n",
        "print(f\"Missing tags: {df['themes'].isna().sum():,}\")"
      ],
      "metadata": {
        "id": "tag"
      },
      "execution_count": null,
      "outputs": []
    },
    {
      "cell_type": "markdown",
      "source": [
        "## Step 7: Preview Tagged Verses"
      ],
      "metadata": {
        "id": "step7"
      }
    },
    {
      "cell_type": "code",
      "source": [
        "# Show sample tagged verses\n",
        "sample_verses = df[df['themes'].notna()].sample(min(10, len(df)))\n",
        "\n",
        "print(\"📖 Sample Tagged Verses:\\n\")\n",
        "for _, verse in sample_verses.iterrows():\n",
        "    themes = json.loads(verse['themes'])\n",
        "    print(f\"{verse['reference']}\")\n",
        "    print(f\"Text: {verse['clean_text'][:100]}...\")\n",
        "    print(f\"Themes: {', '.join(themes)}\")\n",
        "    print()"
      ],
      "metadata": {
        "id": "preview"
      },
      "execution_count": null,
      "outputs": []
    },
    {
      "cell_type": "markdown",
      "source": [
        "## Step 8: Update Database with Themes\n",
        "\n",
        "This updates ONLY the themes column in the existing database."
      ],
      "metadata": {
        "id": "step8"
      }
    },
    {
      "cell_type": "code",
      "source": [
        "# Update the database with themes\n",
        "conn = sqlite3.connect('bible.db')\n",
        "cursor = conn.cursor()\n",
        "\n",
        "print(\"📝 Updating database with themes...\\n\")\n",
        "\n",
        "for _, row in tqdm(df.iterrows(), total=len(df), desc=\"Updating themes\"):\n",
        "    if pd.notna(row['themes']):\n",
        "        cursor.execute(\n",
        "            \"UPDATE verses SET themes = ? WHERE id = ?\",\n",
        "            (row['themes'], row['id'])\n",
        "        )\n",
        "\n",
        "conn.commit()\n",
        "conn.close()\n",
        "\n",
        "print(\"\\n✅ Database updated successfully!\")\n",
        "\n",
        "# Verify the update\n",
        "conn = sqlite3.connect('bible.db')\n",
        "result = pd.read_sql_query(\n",
        "    \"SELECT COUNT(*) as total, SUM(CASE WHEN themes IS NOT NULL THEN 1 ELSE 0 END) as tagged FROM verses WHERE translation='WEB'\",\n",
        "    conn\n",
        ")\n",
        "conn.close()\n",
        "\n",
        "print(f\"\\n📊 Database Statistics:\")\n",
        "print(f\"  - Total verses: {result['total'].iloc[0]:,}\")\n",
        "print(f\"  - Tagged verses: {result['tagged'].iloc[0]:,}\")\n",
        "print(f\"  - Coverage: {(result['tagged'].iloc[0] / result['total'].iloc[0] * 100):.1f}%\")"
      ],
      "metadata": {
        "id": "update"
      },
      "execution_count": null,
      "outputs": []
    },
    {
      "cell_type": "markdown",
      "source": [
        "## Step 9: Download Updated Database"
      ],
      "metadata": {
        "id": "step9"
      }
    },
    {
      "cell_type": "code",
      "source": [
        "print(\"📥 Downloading updated bible.db...\")\n",
        "files.download('bible.db')\n",
        "\n",
        "print(\"\\n🎉 ALL DONE!\")\n",
        "print(\"\\nNext steps:\")\n",
        "print(\"1. Replace assets/bible.db with the downloaded file\")\n",
        "print(\"2. Update ai_provider.dart to use searchByTheme() instead of searchVerses()\")\n",
        "print(\"3. Test the AI chat to see diverse, contextually relevant verses!\")\n",
        "print(\"\\n💡 The backup (bible_backup.db) is also available if needed.\")"
      ],
      "metadata": {
        "id": "download"
      },
      "execution_count": null,
      "outputs": []
    }
  ]
}
